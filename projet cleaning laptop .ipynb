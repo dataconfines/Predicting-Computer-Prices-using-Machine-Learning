{
 "cells": [
  {
   "cell_type": "markdown",
   "id": "2f3e9c31",
   "metadata": {},
   "source": [
    "# Price Prediction using Machine Learning"
   ]
  },
  {
   "cell_type": "markdown",
   "id": "93d4c090",
   "metadata": {},
   "source": [
    "<span style=\"color:#3847f5; font-weight:bold;font-size:20px;\">We will work on a project to predict the prices of laptops. The problem statement is that if a user wants to purchase a laptop, our application should be capable of providing an estimated price for the laptop based on the user's configurations. While this might seem like a simple project or just model development, the dataset we have is noisy and requires extensive feature engineering and preprocessing, making this project an interesting challenge to develop.</span>\n"
   ]
  },
  {
   "cell_type": "markdown",
   "id": "30791dfa",
   "metadata": {},
   "source": [
    "## Feature Engineering and Preprocessing for the Laptop Price Prediction Model\n",
    "\n",
    "\n",
    "\n"
   ]
  },
  {
   "cell_type": "markdown",
   "id": "fef51df5",
   "metadata": {},
   "source": [
    "<span style=\"color:#3847f5; font-weight:bold;font-size:20px;\">Feature Engineering is the process of transforming raw data into meaningful information. There are various techniques under feature engineering, such as transformation, categorical encoding, and more. Currently, the columns in our dataset are noisy, so we need to apply some feature engineering steps.\n",
    "</span>\n"
   ]
  },
  {
   "cell_type": "markdown",
   "id": "3ff6607e",
   "metadata": {},
   "source": [
    "# 1- Import data  :"
   ]
  },
  {
   "cell_type": "code",
   "execution_count": 132,
   "id": "f258b307",
   "metadata": {},
   "outputs": [],
   "source": [
    "import numpy as np\n",
    "import pandas as pd\n",
    "import matplotlib.pyplot as plt\n",
    "import seaborn as sns\n",
    "%matplotlib inline\n",
    "sns.set()\n",
    "import re"
   ]
  },
  {
   "cell_type": "code",
   "execution_count": 133,
   "id": "a5e5256c",
   "metadata": {},
   "outputs": [
    {
     "data": {
      "text/html": [
       "<div>\n",
       "<style scoped>\n",
       "    .dataframe tbody tr th:only-of-type {\n",
       "        vertical-align: middle;\n",
       "    }\n",
       "\n",
       "    .dataframe tbody tr th {\n",
       "        vertical-align: top;\n",
       "    }\n",
       "\n",
       "    .dataframe thead th {\n",
       "        text-align: right;\n",
       "    }\n",
       "</style>\n",
       "<table border=\"1\" class=\"dataframe\">\n",
       "  <thead>\n",
       "    <tr style=\"text-align: right;\">\n",
       "      <th></th>\n",
       "      <th>Unnamed: 0</th>\n",
       "      <th>Company</th>\n",
       "      <th>TypeName</th>\n",
       "      <th>Inches</th>\n",
       "      <th>ScreenResolution</th>\n",
       "      <th>Cpu</th>\n",
       "      <th>Ram</th>\n",
       "      <th>Memory</th>\n",
       "      <th>Gpu</th>\n",
       "      <th>OpSys</th>\n",
       "      <th>Weight</th>\n",
       "      <th>Price</th>\n",
       "    </tr>\n",
       "  </thead>\n",
       "  <tbody>\n",
       "    <tr>\n",
       "      <th>0</th>\n",
       "      <td>0</td>\n",
       "      <td>Apple</td>\n",
       "      <td>Ultrabook</td>\n",
       "      <td>13.3</td>\n",
       "      <td>IPS Panel Retina Display 2560x1600</td>\n",
       "      <td>Intel Core i5 2.3GHz</td>\n",
       "      <td>8GB</td>\n",
       "      <td>128GB SSD</td>\n",
       "      <td>Intel Iris Plus Graphics 640</td>\n",
       "      <td>macOS</td>\n",
       "      <td>1.37kg</td>\n",
       "      <td>71378.6832</td>\n",
       "    </tr>\n",
       "    <tr>\n",
       "      <th>1</th>\n",
       "      <td>1</td>\n",
       "      <td>Apple</td>\n",
       "      <td>Ultrabook</td>\n",
       "      <td>13.3</td>\n",
       "      <td>1440x900</td>\n",
       "      <td>Intel Core i5 1.8GHz</td>\n",
       "      <td>8GB</td>\n",
       "      <td>128GB Flash Storage</td>\n",
       "      <td>Intel HD Graphics 6000</td>\n",
       "      <td>macOS</td>\n",
       "      <td>1.34kg</td>\n",
       "      <td>47895.5232</td>\n",
       "    </tr>\n",
       "    <tr>\n",
       "      <th>2</th>\n",
       "      <td>2</td>\n",
       "      <td>HP</td>\n",
       "      <td>Notebook</td>\n",
       "      <td>15.6</td>\n",
       "      <td>Full HD 1920x1080</td>\n",
       "      <td>Intel Core i5 7200U 2.5GHz</td>\n",
       "      <td>8GB</td>\n",
       "      <td>256GB SSD</td>\n",
       "      <td>Intel HD Graphics 620</td>\n",
       "      <td>No OS</td>\n",
       "      <td>1.86kg</td>\n",
       "      <td>30636.0000</td>\n",
       "    </tr>\n",
       "    <tr>\n",
       "      <th>3</th>\n",
       "      <td>3</td>\n",
       "      <td>Apple</td>\n",
       "      <td>Ultrabook</td>\n",
       "      <td>15.4</td>\n",
       "      <td>IPS Panel Retina Display 2880x1800</td>\n",
       "      <td>Intel Core i7 2.7GHz</td>\n",
       "      <td>16GB</td>\n",
       "      <td>512GB SSD</td>\n",
       "      <td>AMD Radeon Pro 455</td>\n",
       "      <td>macOS</td>\n",
       "      <td>1.83kg</td>\n",
       "      <td>135195.3360</td>\n",
       "    </tr>\n",
       "    <tr>\n",
       "      <th>4</th>\n",
       "      <td>4</td>\n",
       "      <td>Apple</td>\n",
       "      <td>Ultrabook</td>\n",
       "      <td>13.3</td>\n",
       "      <td>IPS Panel Retina Display 2560x1600</td>\n",
       "      <td>Intel Core i5 3.1GHz</td>\n",
       "      <td>8GB</td>\n",
       "      <td>256GB SSD</td>\n",
       "      <td>Intel Iris Plus Graphics 650</td>\n",
       "      <td>macOS</td>\n",
       "      <td>1.37kg</td>\n",
       "      <td>96095.8080</td>\n",
       "    </tr>\n",
       "  </tbody>\n",
       "</table>\n",
       "</div>"
      ],
      "text/plain": [
       "   Unnamed: 0 Company   TypeName  Inches                    ScreenResolution  \\\n",
       "0           0   Apple  Ultrabook    13.3  IPS Panel Retina Display 2560x1600   \n",
       "1           1   Apple  Ultrabook    13.3                            1440x900   \n",
       "2           2      HP   Notebook    15.6                   Full HD 1920x1080   \n",
       "3           3   Apple  Ultrabook    15.4  IPS Panel Retina Display 2880x1800   \n",
       "4           4   Apple  Ultrabook    13.3  IPS Panel Retina Display 2560x1600   \n",
       "\n",
       "                          Cpu   Ram               Memory  \\\n",
       "0        Intel Core i5 2.3GHz   8GB            128GB SSD   \n",
       "1        Intel Core i5 1.8GHz   8GB  128GB Flash Storage   \n",
       "2  Intel Core i5 7200U 2.5GHz   8GB            256GB SSD   \n",
       "3        Intel Core i7 2.7GHz  16GB            512GB SSD   \n",
       "4        Intel Core i5 3.1GHz   8GB            256GB SSD   \n",
       "\n",
       "                            Gpu  OpSys  Weight        Price  \n",
       "0  Intel Iris Plus Graphics 640  macOS  1.37kg   71378.6832  \n",
       "1        Intel HD Graphics 6000  macOS  1.34kg   47895.5232  \n",
       "2         Intel HD Graphics 620  No OS  1.86kg   30636.0000  \n",
       "3            AMD Radeon Pro 455  macOS  1.83kg  135195.3360  \n",
       "4  Intel Iris Plus Graphics 650  macOS  1.37kg   96095.8080  "
      ]
     },
     "execution_count": 133,
     "metadata": {},
     "output_type": "execute_result"
    }
   ],
   "source": [
    "df=pd.read_csv(\"laptop_data.csv\")\n",
    "df.head(5)"
   ]
  },
  {
   "cell_type": "code",
   "execution_count": null,
   "id": "c1802665",
   "metadata": {},
   "outputs": [],
   "source": []
  },
  {
   "cell_type": "markdown",
   "id": "66422d14",
   "metadata": {},
   "source": [
    "<span style=\"color:#3847f5; font-weight:bold;font-size:20px;\">The dataset contains 12 columns. We will analyze each column, examine its characteristics, and make necessary modifications to build a robust model for price prediction.</span>"
   ]
  },
  {
   "cell_type": "markdown",
   "id": "2a4175d6",
   "metadata": {},
   "source": [
    "<span style=\"color:#7b0d8e; font-weight:bold;font-size:16px;\">The First Column \"Unnamed: 0\".</span>"
   ]
  },
  {
   "cell_type": "code",
   "execution_count": 134,
   "id": "7a7bf449",
   "metadata": {},
   "outputs": [
    {
     "data": {
      "text/plain": [
       "array([   0,    1,    2, ..., 1300, 1301, 1302], dtype=int64)"
      ]
     },
     "execution_count": 134,
     "metadata": {},
     "output_type": "execute_result"
    }
   ],
   "source": [
    "df[\"Unnamed: 0\"].unique()"
   ]
  },
  {
   "cell_type": "markdown",
   "id": "8025686b",
   "metadata": {},
   "source": [
    "<span style=\"color:blue; font-weight:bold;font-size:16px;\">The first column is just an index, so we will delete it.\".</span>"
   ]
  },
  {
   "cell_type": "code",
   "execution_count": 135,
   "id": "be52e79b",
   "metadata": {},
   "outputs": [],
   "source": [
    "df=df.drop(columns=\"Unnamed: 0\",axis=1)"
   ]
  },
  {
   "cell_type": "markdown",
   "id": "72d50842",
   "metadata": {},
   "source": [
    "<span style=\"color:#7b0d8e; font-weight:bold;font-size:16px;\">The Second Column \"Company\".</span>"
   ]
  },
  {
   "cell_type": "code",
   "execution_count": 136,
   "id": "926f7940",
   "metadata": {},
   "outputs": [
    {
     "data": {
      "text/plain": [
       "array(['Apple', 'HP', 'Acer', 'Asus', 'Dell', 'Lenovo', 'Chuwi', 'MSI',\n",
       "       'Microsoft', 'Toshiba', 'Huawei', 'Xiaomi', 'Vero', 'Razer',\n",
       "       'Mediacom', 'Samsung', 'Google', 'Fujitsu', 'LG'], dtype=object)"
      ]
     },
     "execution_count": 136,
     "metadata": {},
     "output_type": "execute_result"
    }
   ],
   "source": [
    "df[\"Company\"].unique()"
   ]
  },
  {
   "cell_type": "markdown",
   "id": "9151884d",
   "metadata": {},
   "source": [
    "<span style=\"color:blue; font-weight:bold;font-size:16px;\">It consists of brand names and appears to require no modifications.\".</span>"
   ]
  },
  {
   "cell_type": "markdown",
   "id": "60747565",
   "metadata": {},
   "source": [
    "<span style=\"color:#7b0d8e; font-weight:bold;font-size:16px;\">The thrid column \"TypeName\".</span>\n"
   ]
  },
  {
   "cell_type": "code",
   "execution_count": 137,
   "id": "e180a53d",
   "metadata": {},
   "outputs": [
    {
     "data": {
      "text/plain": [
       "array(['Ultrabook', 'Notebook', 'Netbook', 'Gaming', '2 in 1 Convertible',\n",
       "       'Workstation'], dtype=object)"
      ]
     },
     "execution_count": 137,
     "metadata": {},
     "output_type": "execute_result"
    }
   ],
   "source": [
    "df[\"TypeName\"].unique()"
   ]
  },
  {
   "cell_type": "markdown",
   "id": "aca36382",
   "metadata": {},
   "source": [
    "<span style=\"color:blue; font-weight:bold;font-size:16px;\">df=df.drop(columns=\"Unnamed: 0\",axis=1)"
   ]
  },
  {
   "cell_type": "code",
   "execution_count": 138,
   "id": "18fee260",
   "metadata": {},
   "outputs": [],
   "source": [
    "df.TypeName=df.TypeName.replace('Netbook','Notebook')"
   ]
  },
  {
   "cell_type": "code",
   "execution_count": null,
   "id": "2412c35d",
   "metadata": {},
   "outputs": [],
   "source": []
  },
  {
   "cell_type": "markdown",
   "id": "26590ae0",
   "metadata": {},
   "source": [
    "<span style=\"color:#7b0d8e; font-weight:bold;font-size:16px;\">The fourth column \"Inches\"\n",
    "It represents the device size in inches and appears to require no modifications.</span>"
   ]
  },
  {
   "cell_type": "code",
   "execution_count": 139,
   "id": "70afa6cf",
   "metadata": {},
   "outputs": [
    {
     "data": {
      "text/plain": [
       "array([13.3, 15.6, 15.4, 14. , 12. , 11.6, 17.3, 10.1, 13.5, 12.5, 13. ,\n",
       "       18.4, 13.9, 12.3, 17. , 15. , 14.1, 11.3])"
      ]
     },
     "execution_count": 139,
     "metadata": {},
     "output_type": "execute_result"
    }
   ],
   "source": [
    "df[\"Inches\"].unique()"
   ]
  },
  {
   "cell_type": "code",
   "execution_count": 140,
   "id": "f28f2324",
   "metadata": {},
   "outputs": [
    {
     "data": {
      "text/html": [
       "<div>\n",
       "<style scoped>\n",
       "    .dataframe tbody tr th:only-of-type {\n",
       "        vertical-align: middle;\n",
       "    }\n",
       "\n",
       "    .dataframe tbody tr th {\n",
       "        vertical-align: top;\n",
       "    }\n",
       "\n",
       "    .dataframe thead th {\n",
       "        text-align: right;\n",
       "    }\n",
       "</style>\n",
       "<table border=\"1\" class=\"dataframe\">\n",
       "  <thead>\n",
       "    <tr style=\"text-align: right;\">\n",
       "      <th></th>\n",
       "      <th>Company</th>\n",
       "      <th>TypeName</th>\n",
       "      <th>Inches</th>\n",
       "      <th>ScreenResolution</th>\n",
       "      <th>Cpu</th>\n",
       "      <th>Ram</th>\n",
       "      <th>Memory</th>\n",
       "      <th>Gpu</th>\n",
       "      <th>OpSys</th>\n",
       "      <th>Weight</th>\n",
       "      <th>Price</th>\n",
       "    </tr>\n",
       "  </thead>\n",
       "  <tbody>\n",
       "    <tr>\n",
       "      <th>0</th>\n",
       "      <td>Apple</td>\n",
       "      <td>Ultrabook</td>\n",
       "      <td>13.3</td>\n",
       "      <td>IPS Panel Retina Display 2560x1600</td>\n",
       "      <td>Intel Core i5 2.3GHz</td>\n",
       "      <td>8GB</td>\n",
       "      <td>128GB SSD</td>\n",
       "      <td>Intel Iris Plus Graphics 640</td>\n",
       "      <td>macOS</td>\n",
       "      <td>1.37kg</td>\n",
       "      <td>71378.6832</td>\n",
       "    </tr>\n",
       "    <tr>\n",
       "      <th>1</th>\n",
       "      <td>Apple</td>\n",
       "      <td>Ultrabook</td>\n",
       "      <td>13.3</td>\n",
       "      <td>1440x900</td>\n",
       "      <td>Intel Core i5 1.8GHz</td>\n",
       "      <td>8GB</td>\n",
       "      <td>128GB Flash Storage</td>\n",
       "      <td>Intel HD Graphics 6000</td>\n",
       "      <td>macOS</td>\n",
       "      <td>1.34kg</td>\n",
       "      <td>47895.5232</td>\n",
       "    </tr>\n",
       "    <tr>\n",
       "      <th>2</th>\n",
       "      <td>HP</td>\n",
       "      <td>Notebook</td>\n",
       "      <td>15.6</td>\n",
       "      <td>Full HD 1920x1080</td>\n",
       "      <td>Intel Core i5 7200U 2.5GHz</td>\n",
       "      <td>8GB</td>\n",
       "      <td>256GB SSD</td>\n",
       "      <td>Intel HD Graphics 620</td>\n",
       "      <td>No OS</td>\n",
       "      <td>1.86kg</td>\n",
       "      <td>30636.0000</td>\n",
       "    </tr>\n",
       "    <tr>\n",
       "      <th>3</th>\n",
       "      <td>Apple</td>\n",
       "      <td>Ultrabook</td>\n",
       "      <td>15.4</td>\n",
       "      <td>IPS Panel Retina Display 2880x1800</td>\n",
       "      <td>Intel Core i7 2.7GHz</td>\n",
       "      <td>16GB</td>\n",
       "      <td>512GB SSD</td>\n",
       "      <td>AMD Radeon Pro 455</td>\n",
       "      <td>macOS</td>\n",
       "      <td>1.83kg</td>\n",
       "      <td>135195.3360</td>\n",
       "    </tr>\n",
       "    <tr>\n",
       "      <th>4</th>\n",
       "      <td>Apple</td>\n",
       "      <td>Ultrabook</td>\n",
       "      <td>13.3</td>\n",
       "      <td>IPS Panel Retina Display 2560x1600</td>\n",
       "      <td>Intel Core i5 3.1GHz</td>\n",
       "      <td>8GB</td>\n",
       "      <td>256GB SSD</td>\n",
       "      <td>Intel Iris Plus Graphics 650</td>\n",
       "      <td>macOS</td>\n",
       "      <td>1.37kg</td>\n",
       "      <td>96095.8080</td>\n",
       "    </tr>\n",
       "  </tbody>\n",
       "</table>\n",
       "</div>"
      ],
      "text/plain": [
       "  Company   TypeName  Inches                    ScreenResolution  \\\n",
       "0   Apple  Ultrabook    13.3  IPS Panel Retina Display 2560x1600   \n",
       "1   Apple  Ultrabook    13.3                            1440x900   \n",
       "2      HP   Notebook    15.6                   Full HD 1920x1080   \n",
       "3   Apple  Ultrabook    15.4  IPS Panel Retina Display 2880x1800   \n",
       "4   Apple  Ultrabook    13.3  IPS Panel Retina Display 2560x1600   \n",
       "\n",
       "                          Cpu   Ram               Memory  \\\n",
       "0        Intel Core i5 2.3GHz   8GB            128GB SSD   \n",
       "1        Intel Core i5 1.8GHz   8GB  128GB Flash Storage   \n",
       "2  Intel Core i5 7200U 2.5GHz   8GB            256GB SSD   \n",
       "3        Intel Core i7 2.7GHz  16GB            512GB SSD   \n",
       "4        Intel Core i5 3.1GHz   8GB            256GB SSD   \n",
       "\n",
       "                            Gpu  OpSys  Weight        Price  \n",
       "0  Intel Iris Plus Graphics 640  macOS  1.37kg   71378.6832  \n",
       "1        Intel HD Graphics 6000  macOS  1.34kg   47895.5232  \n",
       "2         Intel HD Graphics 620  No OS  1.86kg   30636.0000  \n",
       "3            AMD Radeon Pro 455  macOS  1.83kg  135195.3360  \n",
       "4  Intel Iris Plus Graphics 650  macOS  1.37kg   96095.8080  "
      ]
     },
     "execution_count": 140,
     "metadata": {},
     "output_type": "execute_result"
    }
   ],
   "source": [
    "df.head(5)"
   ]
  },
  {
   "cell_type": "markdown",
   "id": "39787a40",
   "metadata": {},
   "source": [
    "<span style=\"color:#7b0d8e; font-weight:bold;font-size:16px;\">The fifth column \"ScreenResolution\"\n",
    "From the contents of the column, we can extract three important pieces of information:.</span>  \n",
    " - The screen type, which consists of three categories \"IPS Panel\" ,\"Touchscreen\",\"IPS/Touchscreen\".\n",
    " - The height, which can be extracted from  1920x1080.\n",
    " - The width, which can be extracted from 1920x1080.</span>"
   ]
  },
  {
   "cell_type": "code",
   "execution_count": 141,
   "id": "b1f6026c",
   "metadata": {},
   "outputs": [
    {
     "data": {
      "text/plain": [
       "array(['IPS Panel Retina Display 2560x1600', '1440x900',\n",
       "       'Full HD 1920x1080', 'IPS Panel Retina Display 2880x1800',\n",
       "       '1366x768', 'IPS Panel Full HD 1920x1080',\n",
       "       'IPS Panel Retina Display 2304x1440',\n",
       "       'IPS Panel Full HD / Touchscreen 1920x1080',\n",
       "       'Full HD / Touchscreen 1920x1080',\n",
       "       'Touchscreen / Quad HD+ 3200x1800',\n",
       "       'IPS Panel Touchscreen 1920x1200', 'Touchscreen 2256x1504',\n",
       "       'Quad HD+ / Touchscreen 3200x1800', 'IPS Panel 1366x768',\n",
       "       'IPS Panel 4K Ultra HD / Touchscreen 3840x2160',\n",
       "       'IPS Panel Full HD 2160x1440',\n",
       "       '4K Ultra HD / Touchscreen 3840x2160', 'Touchscreen 2560x1440',\n",
       "       '1600x900', 'IPS Panel 4K Ultra HD 3840x2160',\n",
       "       '4K Ultra HD 3840x2160', 'Touchscreen 1366x768',\n",
       "       'IPS Panel Full HD 1366x768', 'IPS Panel 2560x1440',\n",
       "       'IPS Panel Full HD 2560x1440',\n",
       "       'IPS Panel Retina Display 2736x1824', 'Touchscreen 2400x1600',\n",
       "       '2560x1440', 'IPS Panel Quad HD+ 2560x1440',\n",
       "       'IPS Panel Quad HD+ 3200x1800',\n",
       "       'IPS Panel Quad HD+ / Touchscreen 3200x1800',\n",
       "       'IPS Panel Touchscreen 1366x768', '1920x1080',\n",
       "       'IPS Panel Full HD 1920x1200',\n",
       "       'IPS Panel Touchscreen / 4K Ultra HD 3840x2160',\n",
       "       'IPS Panel Touchscreen 2560x1440',\n",
       "       'Touchscreen / Full HD 1920x1080', 'Quad HD+ 3200x1800',\n",
       "       'Touchscreen / 4K Ultra HD 3840x2160',\n",
       "       'IPS Panel Touchscreen 2400x1600'], dtype=object)"
      ]
     },
     "execution_count": 141,
     "metadata": {},
     "output_type": "execute_result"
    }
   ],
   "source": [
    "df[\"ScreenResolution\"].unique()"
   ]
  },
  {
   "cell_type": "code",
   "execution_count": 142,
   "id": "8600998b",
   "metadata": {},
   "outputs": [],
   "source": [
    "#Equation for extraction Screen types : IPS Touchscreen and IPS/Touchscreen\n",
    "def extraction_ScreenResolution(text):\n",
    "    if \"IPS\"in text and \"Touchscreen\" in text:\n",
    "        return \"IPS/Touchscreen\"\n",
    "    elif \"IPS\" in text :\n",
    "        return \"IPS\"\n",
    "    else : \n",
    "        return  \"Touchscreen\"\n",
    "    "
   ]
  },
  {
   "cell_type": "code",
   "execution_count": 143,
   "id": "b93ab57e",
   "metadata": {},
   "outputs": [],
   "source": [
    "#Create column \"IPS/Touchscreen\"\n",
    "df[\"IPS/Touchscreen\"]=df.ScreenResolution.apply(extraction_ScreenResolution)"
   ]
  },
  {
   "cell_type": "code",
   "execution_count": 144,
   "id": "135cdd61",
   "metadata": {},
   "outputs": [],
   "source": [
    "#Equation for extraction resolution : width and height\n",
    "def extraction_resolution(text):\n",
    "    if not isinstance(text, str):\n",
    "        return None, None\n",
    "    patern=r\"\\b(\\d+)x(\\d+)\"\n",
    "    match=re.search(patern,text)\n",
    "    if match :\n",
    "        width =int(match.group(1))\n",
    "        height =int(match.group(2))\n",
    "       \n",
    "        return width,height\n",
    "    return None , None "
   ]
  },
  {
   "cell_type": "code",
   "execution_count": 145,
   "id": "84317bb7",
   "metadata": {},
   "outputs": [],
   "source": [
    "df[['width','height']]=df.ScreenResolution.apply(extraction_resolution).apply(pd.Series)"
   ]
  },
  {
   "cell_type": "code",
   "execution_count": 146,
   "id": "0f4faa3e",
   "metadata": {},
   "outputs": [],
   "source": [
    "df[['width','height']]=df.ScreenResolution.apply(extraction_resolution).apply(pd.Series)"
   ]
  },
  {
   "cell_type": "code",
   "execution_count": 147,
   "id": "df4b4615",
   "metadata": {},
   "outputs": [
    {
     "data": {
      "text/html": [
       "<style type=\"text/css\">\n",
       "#T_42cae_row0_col10, #T_42cae_row0_col11, #T_42cae_row0_col12, #T_42cae_row1_col10, #T_42cae_row1_col11, #T_42cae_row1_col12, #T_42cae_row2_col10, #T_42cae_row2_col11, #T_42cae_row2_col12, #T_42cae_row3_col10, #T_42cae_row3_col11, #T_42cae_row3_col12, #T_42cae_row4_col10, #T_42cae_row4_col11, #T_42cae_row4_col12 {\n",
       "  background-color: #bff3f5;\n",
       "}\n",
       "</style>\n",
       "<table id=\"T_42cae\">\n",
       "  <thead>\n",
       "    <tr>\n",
       "      <th class=\"blank level0\" >&nbsp;</th>\n",
       "      <th id=\"T_42cae_level0_col0\" class=\"col_heading level0 col0\" >Company</th>\n",
       "      <th id=\"T_42cae_level0_col1\" class=\"col_heading level0 col1\" >TypeName</th>\n",
       "      <th id=\"T_42cae_level0_col2\" class=\"col_heading level0 col2\" >Inches</th>\n",
       "      <th id=\"T_42cae_level0_col3\" class=\"col_heading level0 col3\" >Cpu</th>\n",
       "      <th id=\"T_42cae_level0_col4\" class=\"col_heading level0 col4\" >Ram</th>\n",
       "      <th id=\"T_42cae_level0_col5\" class=\"col_heading level0 col5\" >Memory</th>\n",
       "      <th id=\"T_42cae_level0_col6\" class=\"col_heading level0 col6\" >Gpu</th>\n",
       "      <th id=\"T_42cae_level0_col7\" class=\"col_heading level0 col7\" >OpSys</th>\n",
       "      <th id=\"T_42cae_level0_col8\" class=\"col_heading level0 col8\" >Weight</th>\n",
       "      <th id=\"T_42cae_level0_col9\" class=\"col_heading level0 col9\" >Price</th>\n",
       "      <th id=\"T_42cae_level0_col10\" class=\"col_heading level0 col10\" >IPS/Touchscreen</th>\n",
       "      <th id=\"T_42cae_level0_col11\" class=\"col_heading level0 col11\" >width</th>\n",
       "      <th id=\"T_42cae_level0_col12\" class=\"col_heading level0 col12\" >height</th>\n",
       "    </tr>\n",
       "  </thead>\n",
       "  <tbody>\n",
       "    <tr>\n",
       "      <th id=\"T_42cae_level0_row0\" class=\"row_heading level0 row0\" >0</th>\n",
       "      <td id=\"T_42cae_row0_col0\" class=\"data row0 col0\" >Apple</td>\n",
       "      <td id=\"T_42cae_row0_col1\" class=\"data row0 col1\" >Ultrabook</td>\n",
       "      <td id=\"T_42cae_row0_col2\" class=\"data row0 col2\" >13.300000</td>\n",
       "      <td id=\"T_42cae_row0_col3\" class=\"data row0 col3\" >Intel Core i5 2.3GHz</td>\n",
       "      <td id=\"T_42cae_row0_col4\" class=\"data row0 col4\" >8GB</td>\n",
       "      <td id=\"T_42cae_row0_col5\" class=\"data row0 col5\" >128GB SSD</td>\n",
       "      <td id=\"T_42cae_row0_col6\" class=\"data row0 col6\" >Intel Iris Plus Graphics 640</td>\n",
       "      <td id=\"T_42cae_row0_col7\" class=\"data row0 col7\" >macOS</td>\n",
       "      <td id=\"T_42cae_row0_col8\" class=\"data row0 col8\" >1.37kg</td>\n",
       "      <td id=\"T_42cae_row0_col9\" class=\"data row0 col9\" >71378.683200</td>\n",
       "      <td id=\"T_42cae_row0_col10\" class=\"data row0 col10\" >IPS</td>\n",
       "      <td id=\"T_42cae_row0_col11\" class=\"data row0 col11\" >2560</td>\n",
       "      <td id=\"T_42cae_row0_col12\" class=\"data row0 col12\" >1600</td>\n",
       "    </tr>\n",
       "    <tr>\n",
       "      <th id=\"T_42cae_level0_row1\" class=\"row_heading level0 row1\" >1</th>\n",
       "      <td id=\"T_42cae_row1_col0\" class=\"data row1 col0\" >Apple</td>\n",
       "      <td id=\"T_42cae_row1_col1\" class=\"data row1 col1\" >Ultrabook</td>\n",
       "      <td id=\"T_42cae_row1_col2\" class=\"data row1 col2\" >13.300000</td>\n",
       "      <td id=\"T_42cae_row1_col3\" class=\"data row1 col3\" >Intel Core i5 1.8GHz</td>\n",
       "      <td id=\"T_42cae_row1_col4\" class=\"data row1 col4\" >8GB</td>\n",
       "      <td id=\"T_42cae_row1_col5\" class=\"data row1 col5\" >128GB Flash Storage</td>\n",
       "      <td id=\"T_42cae_row1_col6\" class=\"data row1 col6\" >Intel HD Graphics 6000</td>\n",
       "      <td id=\"T_42cae_row1_col7\" class=\"data row1 col7\" >macOS</td>\n",
       "      <td id=\"T_42cae_row1_col8\" class=\"data row1 col8\" >1.34kg</td>\n",
       "      <td id=\"T_42cae_row1_col9\" class=\"data row1 col9\" >47895.523200</td>\n",
       "      <td id=\"T_42cae_row1_col10\" class=\"data row1 col10\" >Touchscreen</td>\n",
       "      <td id=\"T_42cae_row1_col11\" class=\"data row1 col11\" >1440</td>\n",
       "      <td id=\"T_42cae_row1_col12\" class=\"data row1 col12\" >900</td>\n",
       "    </tr>\n",
       "    <tr>\n",
       "      <th id=\"T_42cae_level0_row2\" class=\"row_heading level0 row2\" >2</th>\n",
       "      <td id=\"T_42cae_row2_col0\" class=\"data row2 col0\" >HP</td>\n",
       "      <td id=\"T_42cae_row2_col1\" class=\"data row2 col1\" >Notebook</td>\n",
       "      <td id=\"T_42cae_row2_col2\" class=\"data row2 col2\" >15.600000</td>\n",
       "      <td id=\"T_42cae_row2_col3\" class=\"data row2 col3\" >Intel Core i5 7200U 2.5GHz</td>\n",
       "      <td id=\"T_42cae_row2_col4\" class=\"data row2 col4\" >8GB</td>\n",
       "      <td id=\"T_42cae_row2_col5\" class=\"data row2 col5\" >256GB SSD</td>\n",
       "      <td id=\"T_42cae_row2_col6\" class=\"data row2 col6\" >Intel HD Graphics 620</td>\n",
       "      <td id=\"T_42cae_row2_col7\" class=\"data row2 col7\" >No OS</td>\n",
       "      <td id=\"T_42cae_row2_col8\" class=\"data row2 col8\" >1.86kg</td>\n",
       "      <td id=\"T_42cae_row2_col9\" class=\"data row2 col9\" >30636.000000</td>\n",
       "      <td id=\"T_42cae_row2_col10\" class=\"data row2 col10\" >Touchscreen</td>\n",
       "      <td id=\"T_42cae_row2_col11\" class=\"data row2 col11\" >1920</td>\n",
       "      <td id=\"T_42cae_row2_col12\" class=\"data row2 col12\" >1080</td>\n",
       "    </tr>\n",
       "    <tr>\n",
       "      <th id=\"T_42cae_level0_row3\" class=\"row_heading level0 row3\" >3</th>\n",
       "      <td id=\"T_42cae_row3_col0\" class=\"data row3 col0\" >Apple</td>\n",
       "      <td id=\"T_42cae_row3_col1\" class=\"data row3 col1\" >Ultrabook</td>\n",
       "      <td id=\"T_42cae_row3_col2\" class=\"data row3 col2\" >15.400000</td>\n",
       "      <td id=\"T_42cae_row3_col3\" class=\"data row3 col3\" >Intel Core i7 2.7GHz</td>\n",
       "      <td id=\"T_42cae_row3_col4\" class=\"data row3 col4\" >16GB</td>\n",
       "      <td id=\"T_42cae_row3_col5\" class=\"data row3 col5\" >512GB SSD</td>\n",
       "      <td id=\"T_42cae_row3_col6\" class=\"data row3 col6\" >AMD Radeon Pro 455</td>\n",
       "      <td id=\"T_42cae_row3_col7\" class=\"data row3 col7\" >macOS</td>\n",
       "      <td id=\"T_42cae_row3_col8\" class=\"data row3 col8\" >1.83kg</td>\n",
       "      <td id=\"T_42cae_row3_col9\" class=\"data row3 col9\" >135195.336000</td>\n",
       "      <td id=\"T_42cae_row3_col10\" class=\"data row3 col10\" >IPS</td>\n",
       "      <td id=\"T_42cae_row3_col11\" class=\"data row3 col11\" >2880</td>\n",
       "      <td id=\"T_42cae_row3_col12\" class=\"data row3 col12\" >1800</td>\n",
       "    </tr>\n",
       "    <tr>\n",
       "      <th id=\"T_42cae_level0_row4\" class=\"row_heading level0 row4\" >4</th>\n",
       "      <td id=\"T_42cae_row4_col0\" class=\"data row4 col0\" >Apple</td>\n",
       "      <td id=\"T_42cae_row4_col1\" class=\"data row4 col1\" >Ultrabook</td>\n",
       "      <td id=\"T_42cae_row4_col2\" class=\"data row4 col2\" >13.300000</td>\n",
       "      <td id=\"T_42cae_row4_col3\" class=\"data row4 col3\" >Intel Core i5 3.1GHz</td>\n",
       "      <td id=\"T_42cae_row4_col4\" class=\"data row4 col4\" >8GB</td>\n",
       "      <td id=\"T_42cae_row4_col5\" class=\"data row4 col5\" >256GB SSD</td>\n",
       "      <td id=\"T_42cae_row4_col6\" class=\"data row4 col6\" >Intel Iris Plus Graphics 650</td>\n",
       "      <td id=\"T_42cae_row4_col7\" class=\"data row4 col7\" >macOS</td>\n",
       "      <td id=\"T_42cae_row4_col8\" class=\"data row4 col8\" >1.37kg</td>\n",
       "      <td id=\"T_42cae_row4_col9\" class=\"data row4 col9\" >96095.808000</td>\n",
       "      <td id=\"T_42cae_row4_col10\" class=\"data row4 col10\" >IPS</td>\n",
       "      <td id=\"T_42cae_row4_col11\" class=\"data row4 col11\" >2560</td>\n",
       "      <td id=\"T_42cae_row4_col12\" class=\"data row4 col12\" >1600</td>\n",
       "    </tr>\n",
       "  </tbody>\n",
       "</table>\n"
      ],
      "text/plain": [
       "<pandas.io.formats.style.Styler at 0x22532d61910>"
      ]
     },
     "execution_count": 147,
     "metadata": {},
     "output_type": "execute_result"
    }
   ],
   "source": [
    "ScreenResolution_df = df.head(5).style.set_properties(subset=[\"IPS/Touchscreen\",'width','height'],**{'background-color':\"#bff3f5\"})\n",
    "ScreenResolution_df"
   ]
  },
  {
   "cell_type": "markdown",
   "id": "cbf62799",
   "metadata": {},
   "source": [
    "<span style=\"color:#7b0d8e; font-weight:bold;font-size:16px;\">The sixth column \"Cpu\"\n",
    "This column contains the processor type. The processors can be classified into 5 categories.\n",
    "\"Intel Core i5\", \"Intel Core i3\", \"Intel Core i7\", \"AMD \", \"Intel\"</span>"
   ]
  },
  {
   "cell_type": "code",
   "execution_count": 148,
   "id": "ba9e953e",
   "metadata": {},
   "outputs": [],
   "source": [
    "# Column cell assembly\n",
    "def extraction_ScreenResolution(text):\n",
    "     patterns = [\"Intel Core i5\", \"Intel Core i3\", \"Intel Core i7\", \"AMD \", \"Intel\"]\n",
    "    \n",
    "     for pattern in patterns:\n",
    "        if pattern in text:\n",
    "            return pattern.strip()\n",
    "    \n",
    "     return \"Other\"\n",
    "    "
   ]
  },
  {
   "cell_type": "code",
   "execution_count": 149,
   "id": "3171ca58",
   "metadata": {},
   "outputs": [],
   "source": [
    "df[\"Cpu\"]=df.Cpu.apply(extraction_ScreenResolution)"
   ]
  },
  {
   "cell_type": "markdown",
   "id": "75a6691c",
   "metadata": {},
   "source": []
  },
  {
   "cell_type": "code",
   "execution_count": 150,
   "id": "0d5c5a11",
   "metadata": {},
   "outputs": [],
   "source": [
    "def extraction_ram(text):\n",
    "    if not isinstance(text, str):\n",
    "        return None, None\n",
    "    patern=r\"\\b(\\d+)\"\n",
    "    match=re.search(patern,text)\n",
    "    if match :\n",
    "        ram =int(match.group(1))\n",
    "       \n",
    "        return ram\n",
    "    return None "
   ]
  },
  {
   "cell_type": "code",
   "execution_count": 151,
   "id": "62d0ae64",
   "metadata": {},
   "outputs": [],
   "source": [
    "df['Ram']=df.Ram.apply(extraction_ram).apply(pd.Series)"
   ]
  },
  {
   "cell_type": "markdown",
   "id": "ed4e08e8",
   "metadata": {},
   "source": [
    "<span style=\"color:#7b0d8e; font-weight:bold;font-size:16px;\">The eighth column \"Memory\"\n",
    "It contains a lot of information, and the column can be split into 4 columns. The first column will show the primary storage capacity, the second column will show its type, the third column will display the secondary storage capacity, and the fourth column will show its type.  \n",
    "It is observed that some computers only have one storage capacity, so we will fill the secondary storage with a value of 0 and its type as any  \n",
    "Additionally, there is an important note regarding storage capacity, as some devices have a capacity of GB and others have a capacity of GB Therefore, it is crucial to standardize the units, which will be addressed in the equation for removing the storage unit.\n",
    "    1TB =1024GB"
   ]
  },
  {
   "cell_type": "code",
   "execution_count": 152,
   "id": "0cd606e1",
   "metadata": {},
   "outputs": [],
   "source": [
    "#split into two column  'Memory','Memory_plus' \n",
    "df[['Memory','Memory_plus']]=df.Memory.str.split('+',expand=True)\n",
    "#equation for extraction capacite memory and memory plus\n",
    "def extraction_memory_plus(text):\n",
    "    if not isinstance(text, str):\n",
    "        return None, None\n",
    "    patern=r\"\\b(\\d+(?:\\.\\d+)?)(TB|GB)\\s(\\w+)\"\n",
    "    match=re.search(patern,text)\n",
    "    if match :\n",
    "        Memory_plusCapacite=float(match.group(1)) \n",
    "        unite=match.group(2)\n",
    "        Mermory_plusType=match.group(3)\n",
    "        if unite ==\"TB\" :\n",
    "            Memory_plusCapacite*=1024\n",
    "        return Memory_plusCapacite,Mermory_plusType\n",
    "    return None , None \n",
    "#create the four columns\n",
    "df[['Memory_plusCapacite','Mermory_plusType']]=df.Memory_plus.apply(extraction_memory_plus).apply(pd.Series)\n",
    "df[['Memory','Mermory_Type']]=df.Memory.apply(extraction_memory_plus).apply(pd.Series)\n",
    "#drop column \"Memey \" and fill cells None\n",
    "df=df.drop(columns=\"Memory_plus\",axis=1)\n",
    "df[\"Memory_plusCapacite\"]=df[\"Memory_plusCapacite\"].fillna(0)\n",
    "df[\"Mermory_plusType\"]=df[\"Mermory_plusType\"].fillna('Any')"
   ]
  },
  {
   "cell_type": "code",
   "execution_count": 153,
   "id": "c8386cf7",
   "metadata": {},
   "outputs": [
    {
     "data": {
      "text/plain": [
       "array(['Intel Iris Plus Graphics 640', 'Intel HD Graphics 6000',\n",
       "       'Intel HD Graphics 620', 'AMD Radeon Pro 455',\n",
       "       'Intel Iris Plus Graphics 650', 'AMD Radeon R5',\n",
       "       'Intel Iris Pro Graphics', 'Nvidia GeForce MX150',\n",
       "       'Intel UHD Graphics 620', 'Intel HD Graphics 520',\n",
       "       'AMD Radeon Pro 555', 'AMD Radeon R5 M430',\n",
       "       'Intel HD Graphics 615', 'AMD Radeon Pro 560',\n",
       "       'Nvidia GeForce 940MX', 'Intel HD Graphics 400',\n",
       "       'Nvidia GeForce GTX 1050', 'AMD Radeon R2', 'AMD Radeon 530',\n",
       "       'Nvidia GeForce 930MX', 'Intel HD Graphics',\n",
       "       'Intel HD Graphics 500', 'Nvidia GeForce 930MX ',\n",
       "       'Nvidia GeForce GTX 1060', 'Nvidia GeForce 150MX',\n",
       "       'Intel Iris Graphics 540', 'AMD Radeon RX 580',\n",
       "       'Nvidia GeForce 920MX', 'AMD Radeon R4 Graphics', 'AMD Radeon 520',\n",
       "       'Nvidia GeForce GTX 1070', 'Nvidia GeForce GTX 1050 Ti',\n",
       "       'Nvidia GeForce MX130', 'AMD R4 Graphics',\n",
       "       'Nvidia GeForce GTX 940MX', 'AMD Radeon RX 560',\n",
       "       'Nvidia GeForce 920M', 'AMD Radeon R7 M445', 'AMD Radeon RX 550',\n",
       "       'Nvidia GeForce GTX 1050M', 'Intel HD Graphics 515',\n",
       "       'AMD Radeon R5 M420', 'Intel HD Graphics 505',\n",
       "       'Nvidia GTX 980 SLI', 'AMD R17M-M1-70', 'Nvidia GeForce GTX 1080',\n",
       "       'Nvidia Quadro M1200', 'Nvidia GeForce 920MX ',\n",
       "       'Nvidia GeForce GTX 950M', 'AMD FirePro W4190M ',\n",
       "       'Nvidia GeForce GTX 980M', 'Intel Iris Graphics 550',\n",
       "       'Nvidia GeForce 930M', 'Intel HD Graphics 630',\n",
       "       'AMD Radeon R5 430', 'Nvidia GeForce GTX 940M',\n",
       "       'Intel HD Graphics 510', 'Intel HD Graphics 405',\n",
       "       'AMD Radeon RX 540', 'Nvidia GeForce GT 940MX',\n",
       "       'AMD FirePro W5130M', 'Nvidia Quadro M2200M', 'AMD Radeon R4',\n",
       "       'Nvidia Quadro M620', 'AMD Radeon R7 M460',\n",
       "       'Intel HD Graphics 530', 'Nvidia GeForce GTX 965M',\n",
       "       'Nvidia GeForce GTX1080', 'Nvidia GeForce GTX1050 Ti',\n",
       "       'Nvidia GeForce GTX 960M', 'AMD Radeon R2 Graphics',\n",
       "       'Nvidia Quadro M620M', 'Nvidia GeForce GTX 970M',\n",
       "       'Nvidia GeForce GTX 960<U+039C>', 'Intel Graphics 620',\n",
       "       'Nvidia GeForce GTX 960', 'AMD Radeon R5 520',\n",
       "       'AMD Radeon R7 M440', 'AMD Radeon R7', 'Nvidia Quadro M520M',\n",
       "       'Nvidia Quadro M2200', 'Nvidia Quadro M2000M',\n",
       "       'Intel HD Graphics 540', 'Nvidia Quadro M1000M', 'AMD Radeon 540',\n",
       "       'Nvidia GeForce GTX 1070M', 'Nvidia GeForce GTX1060',\n",
       "       'Intel HD Graphics 5300', 'AMD Radeon R5 M420X',\n",
       "       'AMD Radeon R7 Graphics', 'Nvidia GeForce 920',\n",
       "       'Nvidia GeForce 940M', 'Nvidia GeForce GTX 930MX',\n",
       "       'AMD Radeon R7 M465', 'AMD Radeon R3', 'Nvidia GeForce GTX 1050Ti',\n",
       "       'AMD Radeon R7 M365X', 'AMD Radeon R9 M385',\n",
       "       'Intel HD Graphics 620 ', 'Nvidia Quadro 3000M',\n",
       "       'Nvidia GeForce GTX 980 ', 'AMD Radeon R5 M330',\n",
       "       'AMD FirePro W4190M', 'AMD FirePro W6150M', 'AMD Radeon R5 M315',\n",
       "       'Nvidia Quadro M500M', 'AMD Radeon R7 M360',\n",
       "       'Nvidia Quadro M3000M', 'Nvidia GeForce 960M', 'ARM Mali T860 MP4'],\n",
       "      dtype=object)"
      ]
     },
     "execution_count": 153,
     "metadata": {},
     "output_type": "execute_result"
    }
   ],
   "source": [
    "df.Gpu.unique()"
   ]
  },
  {
   "cell_type": "markdown",
   "id": "b47c9e28",
   "metadata": {},
   "source": [
    "<span style=\"color:#7b0d8e; font-weight:bold;font-size:16px;\">The Eighth Column \"Gpu\"\n",
    "It is noted that the column, which pertains to the brand of graphics processors, contains a lot of details.  \n",
    "We will need the brand name and its type, so we will limit it to the first two words of the text..</span>"
   ]
  },
  {
   "cell_type": "code",
   "execution_count": 154,
   "id": "f5763b61",
   "metadata": {},
   "outputs": [],
   "source": [
    "def extraction_name_Gpu(text):\n",
    "    if not isinstance(text, str):\n",
    "        return None, None\n",
    "    pattern = r\"\\w+\\s\\w+\"\n",
    "    match = re.search(pattern, text)\n",
    "    if match:\n",
    "        return match.group()\n",
    "    return None"
   ]
  },
  {
   "cell_type": "code",
   "execution_count": 155,
   "id": "f1d80805",
   "metadata": {},
   "outputs": [],
   "source": [
    "df.Gpu=df.Gpu.apply(extraction_name_Gpu)"
   ]
  },
  {
   "cell_type": "code",
   "execution_count": 156,
   "id": "46a75f22",
   "metadata": {},
   "outputs": [
    {
     "data": {
      "text/plain": [
       "array(['Intel Iris', 'Intel HD', 'AMD Radeon', 'Nvidia GeForce',\n",
       "       'Intel UHD', 'AMD R4', 'Nvidia GTX', 'AMD R17M', 'Nvidia Quadro',\n",
       "       'AMD FirePro', 'Intel Graphics', 'ARM Mali'], dtype=object)"
      ]
     },
     "execution_count": 156,
     "metadata": {},
     "output_type": "execute_result"
    }
   ],
   "source": [
    "df.Gpu.unique()"
   ]
  },
  {
   "cell_type": "code",
   "execution_count": null,
   "id": "0c2506df",
   "metadata": {},
   "outputs": [],
   "source": []
  },
  {
   "cell_type": "markdown",
   "id": "bf8dbbe9",
   "metadata": {},
   "source": [
    "<span style=\"color:#7b0d8e; font-weight:bold;font-size:16px;\">The ninth column includes the operating system for each device.\n",
    "For example, some devices run on Windows, with some using version 10 and others version 7.  \n",
    "There are also devices that run on different systems such as macOS and Linux.  \n",
    "Only the name of the operating system will be retained without its version.</span>"
   ]
  },
  {
   "cell_type": "code",
   "execution_count": 157,
   "id": "8a412517",
   "metadata": {},
   "outputs": [
    {
     "data": {
      "text/plain": [
       "array(['macOS', 'No OS', 'Windows 10', 'Mac OS X', 'Linux', 'Android',\n",
       "       'Windows 10 S', 'Chrome OS', 'Windows 7'], dtype=object)"
      ]
     },
     "execution_count": 157,
     "metadata": {},
     "output_type": "execute_result"
    }
   ],
   "source": [
    "df.OpSys.unique()"
   ]
  },
  {
   "cell_type": "code",
   "execution_count": 158,
   "id": "33b59079",
   "metadata": {},
   "outputs": [],
   "source": [
    "replace={\n",
    "    \"macOS\": \"OS\",\n",
    "    \"Mac OS X\": \"OS\",\n",
    "    \"Chrome OS\": \"OS\",\n",
    "    \"Windows 10\": \"Windows\",\n",
    "    \"Windows 10 S\": \"Windows\",\n",
    "    \"Windows 7\": \"Windows\",\n",
    "}"
   ]
  },
  {
   "cell_type": "code",
   "execution_count": 159,
   "id": "e308234f",
   "metadata": {},
   "outputs": [],
   "source": [
    "df.OpSys=df.OpSys.replace(replace)"
   ]
  },
  {
   "cell_type": "code",
   "execution_count": 160,
   "id": "86856357",
   "metadata": {},
   "outputs": [
    {
     "data": {
      "text/plain": [
       "array(['OS', 'No OS', 'Windows', 'Linux', 'Android'], dtype=object)"
      ]
     },
     "execution_count": 160,
     "metadata": {},
     "output_type": "execute_result"
    }
   ],
   "source": [
    "df.OpSys.unique()"
   ]
  },
  {
   "cell_type": "markdown",
   "id": "69b7c936",
   "metadata": {},
   "source": [
    "<span style=\"color:#7b0d8e; font-weight:bold;font-size:16px;\">The tenth column pertains to the device's weight in kilograms.\n",
    " We will separate the unit 'kg' of weight and retain only the value.</span>"
   ]
  },
  {
   "cell_type": "code",
   "execution_count": 161,
   "id": "fb9a1a0d",
   "metadata": {},
   "outputs": [],
   "source": [
    "# Extraction value from unite \n",
    "def extraction_Weight(text):\n",
    "    if not isinstance(text, str):\n",
    "        return None, None\n",
    "    patern=r\"\\b(\\d+(?:\\.\\d+)?)\"\n",
    "    match=re.search(patern,text)\n",
    "    if match :\n",
    "         Weight=float(match.group(1)) \n",
    "    \n",
    "         return Weight\n",
    "    return None "
   ]
  },
  {
   "cell_type": "code",
   "execution_count": 162,
   "id": "98248e87",
   "metadata": {},
   "outputs": [],
   "source": [
    "df['Weight']=df.Weight.apply(extraction_Weight).apply(pd.Series)"
   ]
  },
  {
   "cell_type": "markdown",
   "id": "f43839e1",
   "metadata": {},
   "source": [
    "Reorganizing and rearranging the columns to obtain the final format of the data."
   ]
  },
  {
   "cell_type": "code",
   "execution_count": 163,
   "id": "4455f741",
   "metadata": {},
   "outputs": [
    {
     "data": {
      "text/plain": [
       "Index(['Company', 'TypeName', 'Inches', 'Cpu', 'Ram', 'Memory', 'Gpu', 'OpSys',\n",
       "       'Weight', 'Price', 'IPS/Touchscreen', 'width', 'height',\n",
       "       'Memory_plusCapacite', 'Mermory_plusType', 'Mermory_Type'],\n",
       "      dtype='object')"
      ]
     },
     "execution_count": 163,
     "metadata": {},
     "output_type": "execute_result"
    }
   ],
   "source": [
    "df.columns"
   ]
  },
  {
   "cell_type": "code",
   "execution_count": 164,
   "id": "13daca9d",
   "metadata": {},
   "outputs": [],
   "source": [
    "column_order=['Company', 'TypeName', 'Inches', 'Cpu', 'Gpu','Ram', 'Memory','Mermory_Type', 'Memory_plusCapacite', 'Mermory_plusType','OpSys',\n",
    "       'Weight', 'IPS/Touchscreen', 'width', 'height', 'Price'\n",
    "       ]"
   ]
  },
  {
   "cell_type": "code",
   "execution_count": 165,
   "id": "e97abd8f",
   "metadata": {},
   "outputs": [],
   "source": [
    "df.to_csv(\"data_laptop_clean\",index=False)"
   ]
  },
  {
   "cell_type": "code",
   "execution_count": 166,
   "id": "563b4ea2",
   "metadata": {},
   "outputs": [
    {
     "data": {
      "text/html": [
       "<div>\n",
       "<style scoped>\n",
       "    .dataframe tbody tr th:only-of-type {\n",
       "        vertical-align: middle;\n",
       "    }\n",
       "\n",
       "    .dataframe tbody tr th {\n",
       "        vertical-align: top;\n",
       "    }\n",
       "\n",
       "    .dataframe thead th {\n",
       "        text-align: right;\n",
       "    }\n",
       "</style>\n",
       "<table border=\"1\" class=\"dataframe\">\n",
       "  <thead>\n",
       "    <tr style=\"text-align: right;\">\n",
       "      <th></th>\n",
       "      <th>Company</th>\n",
       "      <th>TypeName</th>\n",
       "      <th>Inches</th>\n",
       "      <th>Cpu</th>\n",
       "      <th>Ram</th>\n",
       "      <th>Memory</th>\n",
       "      <th>Gpu</th>\n",
       "      <th>OpSys</th>\n",
       "      <th>Weight</th>\n",
       "      <th>Price</th>\n",
       "      <th>IPS/Touchscreen</th>\n",
       "      <th>width</th>\n",
       "      <th>height</th>\n",
       "      <th>Memory_plusCapacite</th>\n",
       "      <th>Mermory_plusType</th>\n",
       "      <th>Mermory_Type</th>\n",
       "    </tr>\n",
       "  </thead>\n",
       "  <tbody>\n",
       "    <tr>\n",
       "      <th>0</th>\n",
       "      <td>Apple</td>\n",
       "      <td>Ultrabook</td>\n",
       "      <td>13.3</td>\n",
       "      <td>Intel Core i5</td>\n",
       "      <td>8</td>\n",
       "      <td>128.0</td>\n",
       "      <td>Intel Iris</td>\n",
       "      <td>OS</td>\n",
       "      <td>1.37</td>\n",
       "      <td>71378.6832</td>\n",
       "      <td>IPS</td>\n",
       "      <td>2560</td>\n",
       "      <td>1600</td>\n",
       "      <td>0.0</td>\n",
       "      <td>Any</td>\n",
       "      <td>SSD</td>\n",
       "    </tr>\n",
       "    <tr>\n",
       "      <th>1</th>\n",
       "      <td>Apple</td>\n",
       "      <td>Ultrabook</td>\n",
       "      <td>13.3</td>\n",
       "      <td>Intel Core i5</td>\n",
       "      <td>8</td>\n",
       "      <td>128.0</td>\n",
       "      <td>Intel HD</td>\n",
       "      <td>OS</td>\n",
       "      <td>1.34</td>\n",
       "      <td>47895.5232</td>\n",
       "      <td>Touchscreen</td>\n",
       "      <td>1440</td>\n",
       "      <td>900</td>\n",
       "      <td>0.0</td>\n",
       "      <td>Any</td>\n",
       "      <td>Flash</td>\n",
       "    </tr>\n",
       "    <tr>\n",
       "      <th>2</th>\n",
       "      <td>HP</td>\n",
       "      <td>Notebook</td>\n",
       "      <td>15.6</td>\n",
       "      <td>Intel Core i5</td>\n",
       "      <td>8</td>\n",
       "      <td>256.0</td>\n",
       "      <td>Intel HD</td>\n",
       "      <td>No OS</td>\n",
       "      <td>1.86</td>\n",
       "      <td>30636.0000</td>\n",
       "      <td>Touchscreen</td>\n",
       "      <td>1920</td>\n",
       "      <td>1080</td>\n",
       "      <td>0.0</td>\n",
       "      <td>Any</td>\n",
       "      <td>SSD</td>\n",
       "    </tr>\n",
       "    <tr>\n",
       "      <th>3</th>\n",
       "      <td>Apple</td>\n",
       "      <td>Ultrabook</td>\n",
       "      <td>15.4</td>\n",
       "      <td>Intel Core i7</td>\n",
       "      <td>16</td>\n",
       "      <td>512.0</td>\n",
       "      <td>AMD Radeon</td>\n",
       "      <td>OS</td>\n",
       "      <td>1.83</td>\n",
       "      <td>135195.3360</td>\n",
       "      <td>IPS</td>\n",
       "      <td>2880</td>\n",
       "      <td>1800</td>\n",
       "      <td>0.0</td>\n",
       "      <td>Any</td>\n",
       "      <td>SSD</td>\n",
       "    </tr>\n",
       "    <tr>\n",
       "      <th>4</th>\n",
       "      <td>Apple</td>\n",
       "      <td>Ultrabook</td>\n",
       "      <td>13.3</td>\n",
       "      <td>Intel Core i5</td>\n",
       "      <td>8</td>\n",
       "      <td>256.0</td>\n",
       "      <td>Intel Iris</td>\n",
       "      <td>OS</td>\n",
       "      <td>1.37</td>\n",
       "      <td>96095.8080</td>\n",
       "      <td>IPS</td>\n",
       "      <td>2560</td>\n",
       "      <td>1600</td>\n",
       "      <td>0.0</td>\n",
       "      <td>Any</td>\n",
       "      <td>SSD</td>\n",
       "    </tr>\n",
       "    <tr>\n",
       "      <th>...</th>\n",
       "      <td>...</td>\n",
       "      <td>...</td>\n",
       "      <td>...</td>\n",
       "      <td>...</td>\n",
       "      <td>...</td>\n",
       "      <td>...</td>\n",
       "      <td>...</td>\n",
       "      <td>...</td>\n",
       "      <td>...</td>\n",
       "      <td>...</td>\n",
       "      <td>...</td>\n",
       "      <td>...</td>\n",
       "      <td>...</td>\n",
       "      <td>...</td>\n",
       "      <td>...</td>\n",
       "      <td>...</td>\n",
       "    </tr>\n",
       "    <tr>\n",
       "      <th>1298</th>\n",
       "      <td>Lenovo</td>\n",
       "      <td>2 in 1 Convertible</td>\n",
       "      <td>14.0</td>\n",
       "      <td>Intel Core i7</td>\n",
       "      <td>4</td>\n",
       "      <td>128.0</td>\n",
       "      <td>Intel HD</td>\n",
       "      <td>Windows</td>\n",
       "      <td>1.80</td>\n",
       "      <td>33992.6400</td>\n",
       "      <td>IPS/Touchscreen</td>\n",
       "      <td>1920</td>\n",
       "      <td>1080</td>\n",
       "      <td>0.0</td>\n",
       "      <td>Any</td>\n",
       "      <td>SSD</td>\n",
       "    </tr>\n",
       "    <tr>\n",
       "      <th>1299</th>\n",
       "      <td>Lenovo</td>\n",
       "      <td>2 in 1 Convertible</td>\n",
       "      <td>13.3</td>\n",
       "      <td>Intel Core i7</td>\n",
       "      <td>16</td>\n",
       "      <td>512.0</td>\n",
       "      <td>Intel HD</td>\n",
       "      <td>Windows</td>\n",
       "      <td>1.30</td>\n",
       "      <td>79866.7200</td>\n",
       "      <td>IPS/Touchscreen</td>\n",
       "      <td>3200</td>\n",
       "      <td>1800</td>\n",
       "      <td>0.0</td>\n",
       "      <td>Any</td>\n",
       "      <td>SSD</td>\n",
       "    </tr>\n",
       "    <tr>\n",
       "      <th>1300</th>\n",
       "      <td>Lenovo</td>\n",
       "      <td>Notebook</td>\n",
       "      <td>14.0</td>\n",
       "      <td>Intel</td>\n",
       "      <td>2</td>\n",
       "      <td>64.0</td>\n",
       "      <td>Intel HD</td>\n",
       "      <td>Windows</td>\n",
       "      <td>1.50</td>\n",
       "      <td>12201.1200</td>\n",
       "      <td>Touchscreen</td>\n",
       "      <td>1366</td>\n",
       "      <td>768</td>\n",
       "      <td>0.0</td>\n",
       "      <td>Any</td>\n",
       "      <td>Flash</td>\n",
       "    </tr>\n",
       "    <tr>\n",
       "      <th>1301</th>\n",
       "      <td>HP</td>\n",
       "      <td>Notebook</td>\n",
       "      <td>15.6</td>\n",
       "      <td>Intel Core i7</td>\n",
       "      <td>6</td>\n",
       "      <td>1024.0</td>\n",
       "      <td>AMD Radeon</td>\n",
       "      <td>Windows</td>\n",
       "      <td>2.19</td>\n",
       "      <td>40705.9200</td>\n",
       "      <td>Touchscreen</td>\n",
       "      <td>1366</td>\n",
       "      <td>768</td>\n",
       "      <td>0.0</td>\n",
       "      <td>Any</td>\n",
       "      <td>HDD</td>\n",
       "    </tr>\n",
       "    <tr>\n",
       "      <th>1302</th>\n",
       "      <td>Asus</td>\n",
       "      <td>Notebook</td>\n",
       "      <td>15.6</td>\n",
       "      <td>Intel</td>\n",
       "      <td>4</td>\n",
       "      <td>500.0</td>\n",
       "      <td>Intel HD</td>\n",
       "      <td>Windows</td>\n",
       "      <td>2.20</td>\n",
       "      <td>19660.3200</td>\n",
       "      <td>Touchscreen</td>\n",
       "      <td>1366</td>\n",
       "      <td>768</td>\n",
       "      <td>0.0</td>\n",
       "      <td>Any</td>\n",
       "      <td>HDD</td>\n",
       "    </tr>\n",
       "  </tbody>\n",
       "</table>\n",
       "<p>1303 rows × 16 columns</p>\n",
       "</div>"
      ],
      "text/plain": [
       "     Company            TypeName  Inches            Cpu  Ram  Memory  \\\n",
       "0      Apple           Ultrabook    13.3  Intel Core i5    8   128.0   \n",
       "1      Apple           Ultrabook    13.3  Intel Core i5    8   128.0   \n",
       "2         HP            Notebook    15.6  Intel Core i5    8   256.0   \n",
       "3      Apple           Ultrabook    15.4  Intel Core i7   16   512.0   \n",
       "4      Apple           Ultrabook    13.3  Intel Core i5    8   256.0   \n",
       "...      ...                 ...     ...            ...  ...     ...   \n",
       "1298  Lenovo  2 in 1 Convertible    14.0  Intel Core i7    4   128.0   \n",
       "1299  Lenovo  2 in 1 Convertible    13.3  Intel Core i7   16   512.0   \n",
       "1300  Lenovo            Notebook    14.0          Intel    2    64.0   \n",
       "1301      HP            Notebook    15.6  Intel Core i7    6  1024.0   \n",
       "1302    Asus            Notebook    15.6          Intel    4   500.0   \n",
       "\n",
       "             Gpu    OpSys  Weight        Price  IPS/Touchscreen  width  \\\n",
       "0     Intel Iris       OS    1.37   71378.6832              IPS   2560   \n",
       "1       Intel HD       OS    1.34   47895.5232      Touchscreen   1440   \n",
       "2       Intel HD    No OS    1.86   30636.0000      Touchscreen   1920   \n",
       "3     AMD Radeon       OS    1.83  135195.3360              IPS   2880   \n",
       "4     Intel Iris       OS    1.37   96095.8080              IPS   2560   \n",
       "...          ...      ...     ...          ...              ...    ...   \n",
       "1298    Intel HD  Windows    1.80   33992.6400  IPS/Touchscreen   1920   \n",
       "1299    Intel HD  Windows    1.30   79866.7200  IPS/Touchscreen   3200   \n",
       "1300    Intel HD  Windows    1.50   12201.1200      Touchscreen   1366   \n",
       "1301  AMD Radeon  Windows    2.19   40705.9200      Touchscreen   1366   \n",
       "1302    Intel HD  Windows    2.20   19660.3200      Touchscreen   1366   \n",
       "\n",
       "      height  Memory_plusCapacite Mermory_plusType Mermory_Type  \n",
       "0       1600                  0.0              Any          SSD  \n",
       "1        900                  0.0              Any        Flash  \n",
       "2       1080                  0.0              Any          SSD  \n",
       "3       1800                  0.0              Any          SSD  \n",
       "4       1600                  0.0              Any          SSD  \n",
       "...      ...                  ...              ...          ...  \n",
       "1298    1080                  0.0              Any          SSD  \n",
       "1299    1800                  0.0              Any          SSD  \n",
       "1300     768                  0.0              Any        Flash  \n",
       "1301     768                  0.0              Any          HDD  \n",
       "1302     768                  0.0              Any          HDD  \n",
       "\n",
       "[1303 rows x 16 columns]"
      ]
     },
     "execution_count": 166,
     "metadata": {},
     "output_type": "execute_result"
    }
   ],
   "source": [
    "df"
   ]
  },
  {
   "cell_type": "code",
   "execution_count": null,
   "id": "86697e54",
   "metadata": {},
   "outputs": [],
   "source": []
  },
  {
   "cell_type": "code",
   "execution_count": null,
   "id": "c5cf8bd3",
   "metadata": {},
   "outputs": [],
   "source": []
  }
 ],
 "metadata": {
  "kernelspec": {
   "display_name": "Python 3 (ipykernel)",
   "language": "python",
   "name": "python3"
  },
  "language_info": {
   "codemirror_mode": {
    "name": "ipython",
    "version": 3
   },
   "file_extension": ".py",
   "mimetype": "text/x-python",
   "name": "python",
   "nbconvert_exporter": "python",
   "pygments_lexer": "ipython3",
   "version": "3.11.4"
  }
 },
 "nbformat": 4,
 "nbformat_minor": 5
}
